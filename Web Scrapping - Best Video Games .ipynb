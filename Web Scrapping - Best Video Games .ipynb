{
 "cells": [
  {
   "cell_type": "code",
   "execution_count": 1,
   "metadata": {},
   "outputs": [],
   "source": [
    "from bs4 import BeautifulSoup\n",
    "import requests\n"
   ]
  },
  {
   "cell_type": "code",
   "execution_count": 3,
   "metadata": {},
   "outputs": [],
   "source": [
    "url = \"https://en.wikipedia.org/wiki/List_of_video_games_considered_the_best\"\n",
    "\n",
    "page = requests.get(url)\n",
    "\n",
    "soup = BeautifulSoup(page.text, \"html\")\n"
   ]
  },
  {
   "cell_type": "code",
   "execution_count": 107,
   "metadata": {
    "scrolled": true
   },
   "outputs": [],
   "source": [
    "table = soup.find_all(\"table\")[1]"
   ]
  },
  {
   "cell_type": "code",
   "execution_count": 29,
   "metadata": {},
   "outputs": [
    {
     "name": "stdout",
     "output_type": "stream",
     "text": [
      "[<th scope=\"col\">Year\n",
      "</th>, <th scope=\"col\">Game\n",
      "</th>, <th scope=\"col\"><a href=\"/wiki/Video_game_genre\" title=\"Video game genre\">Genre</a>\n",
      "</th>, <th scope=\"col\">Publisher\n",
      "</th>, <th scope=\"col\">Original platform(s)<sup class=\"reference\" id=\"cite_ref-1\"><a href=\"#cite_note-1\"><span class=\"cite-bracket\">[</span>a<span class=\"cite-bracket\">]</span></a></sup>\n",
      "</th>, <th class=\"unsortable\" scope=\"col\"><abbr title=\"Reference(s)\">Ref.</abbr>\n",
      "</th>]\n"
     ]
    }
   ],
   "source": [
    "game_titles = table.find_all(scope = \"col\")\n",
    "print (table_titles)"
   ]
  },
  {
   "cell_type": "code",
   "execution_count": 31,
   "metadata": {},
   "outputs": [
    {
     "name": "stdout",
     "output_type": "stream",
     "text": [
      "['Year', 'Game', 'Genre', 'Publisher', 'Original platform(s)[a]', 'Ref.']\n"
     ]
    }
   ],
   "source": [
    "table_titles = [title.text.strip() for title in game_titles]\n",
    "print (table_titles)"
   ]
  },
  {
   "cell_type": "code",
   "execution_count": 33,
   "metadata": {},
   "outputs": [
    {
     "name": "stdout",
     "output_type": "stream",
     "text": [
      "['Year', 'Game', 'Genre', 'Publisher', 'Original platform(s)', 'Ref.']\n"
     ]
    }
   ],
   "source": [
    "cleaned_titles = [col.replace('[a]', '') for col in table_titles]\n",
    "print(cleaned_titles)"
   ]
  },
  {
   "cell_type": "code",
   "execution_count": 34,
   "metadata": {},
   "outputs": [],
   "source": [
    "import pandas as pd"
   ]
  },
  {
   "cell_type": "code",
   "execution_count": 35,
   "metadata": {
    "scrolled": true
   },
   "outputs": [
    {
     "data": {
      "text/html": [
       "<div>\n",
       "<style scoped>\n",
       "    .dataframe tbody tr th:only-of-type {\n",
       "        vertical-align: middle;\n",
       "    }\n",
       "\n",
       "    .dataframe tbody tr th {\n",
       "        vertical-align: top;\n",
       "    }\n",
       "\n",
       "    .dataframe thead th {\n",
       "        text-align: right;\n",
       "    }\n",
       "</style>\n",
       "<table border=\"1\" class=\"dataframe\">\n",
       "  <thead>\n",
       "    <tr style=\"text-align: right;\">\n",
       "      <th></th>\n",
       "      <th>Year</th>\n",
       "      <th>Game</th>\n",
       "      <th>Genre</th>\n",
       "      <th>Publisher</th>\n",
       "      <th>Original platform(s)</th>\n",
       "      <th>Ref.</th>\n",
       "    </tr>\n",
       "  </thead>\n",
       "  <tbody>\n",
       "  </tbody>\n",
       "</table>\n",
       "</div>"
      ],
      "text/plain": [
       "Empty DataFrame\n",
       "Columns: [Year, Game, Genre, Publisher, Original platform(s), Ref.]\n",
       "Index: []"
      ]
     },
     "execution_count": 35,
     "metadata": {},
     "output_type": "execute_result"
    }
   ],
   "source": [
    "df = pd.DataFrame(columns = cleaned_titles)\n",
    "\n",
    "df"
   ]
  },
  {
   "cell_type": "code",
   "execution_count": 108,
   "metadata": {},
   "outputs": [],
   "source": [
    "table_rows = table.find_all(\"tr\")[1:]\n"
   ]
  },
  {
   "cell_type": "code",
   "execution_count": 98,
   "metadata": {},
   "outputs": [],
   "source": [
    "for row in table_rows:\n",
    "    year_tag = row.find(\"th\")\n",
    "    if year_tag:\n",
    "        year = year_tag.text.strip()\n",
    "    \n",
    "    \n",
    "    row_data = row.find_all(\"td\")\n",
    "    individual_row_data = [data.text.strip() for data in row_data]\n",
    "    \n",
    "    \n",
    "    if individual_row_data:  \n",
    "        individual_row_data.insert(0, year)\n",
    "    \n",
    "    \n",
    "    \n",
    "    length = len(df)\n",
    "    df.loc[length] = individual_row_data"
   ]
  },
  {
   "cell_type": "code",
   "execution_count": 99,
   "metadata": {},
   "outputs": [
    {
     "data": {
      "text/html": [
       "<div>\n",
       "<style scoped>\n",
       "    .dataframe tbody tr th:only-of-type {\n",
       "        vertical-align: middle;\n",
       "    }\n",
       "\n",
       "    .dataframe tbody tr th {\n",
       "        vertical-align: top;\n",
       "    }\n",
       "\n",
       "    .dataframe thead th {\n",
       "        text-align: right;\n",
       "    }\n",
       "</style>\n",
       "<table border=\"1\" class=\"dataframe\">\n",
       "  <thead>\n",
       "    <tr style=\"text-align: right;\">\n",
       "      <th></th>\n",
       "      <th>Year</th>\n",
       "      <th>Game</th>\n",
       "      <th>Genre</th>\n",
       "      <th>Publisher</th>\n",
       "      <th>Original platform(s)</th>\n",
       "      <th>Ref.</th>\n",
       "    </tr>\n",
       "  </thead>\n",
       "  <tbody>\n",
       "    <tr>\n",
       "      <th>0</th>\n",
       "      <td>1971</td>\n",
       "      <td>The Oregon Trail</td>\n",
       "      <td>Strategy</td>\n",
       "      <td>MECC</td>\n",
       "      <td>HP 2100</td>\n",
       "      <td>[A]</td>\n",
       "    </tr>\n",
       "    <tr>\n",
       "      <th>1</th>\n",
       "      <td>1972</td>\n",
       "      <td>Pong</td>\n",
       "      <td>Sports</td>\n",
       "      <td>Atari, Inc.</td>\n",
       "      <td>Arcade</td>\n",
       "      <td>[B]</td>\n",
       "    </tr>\n",
       "    <tr>\n",
       "      <th>2</th>\n",
       "      <td>1977</td>\n",
       "      <td>Combat</td>\n",
       "      <td>Top-down shooter</td>\n",
       "      <td>Atari, Inc.</td>\n",
       "      <td>Atari 2600</td>\n",
       "      <td>[C]</td>\n",
       "    </tr>\n",
       "    <tr>\n",
       "      <th>3</th>\n",
       "      <td>1977</td>\n",
       "      <td>Zork</td>\n",
       "      <td>Adventure</td>\n",
       "      <td>Infocom</td>\n",
       "      <td>PDP-10</td>\n",
       "      <td>[D]</td>\n",
       "    </tr>\n",
       "    <tr>\n",
       "      <th>4</th>\n",
       "      <td>1978</td>\n",
       "      <td>Space Invaders</td>\n",
       "      <td>Shoot 'em up</td>\n",
       "      <td>Taito</td>\n",
       "      <td>Arcade</td>\n",
       "      <td>[E]</td>\n",
       "    </tr>\n",
       "    <tr>\n",
       "      <th>...</th>\n",
       "      <td>...</td>\n",
       "      <td>...</td>\n",
       "      <td>...</td>\n",
       "      <td>...</td>\n",
       "      <td>...</td>\n",
       "      <td>...</td>\n",
       "    </tr>\n",
       "    <tr>\n",
       "      <th>327</th>\n",
       "      <td>2018</td>\n",
       "      <td>Red Dead Redemption 2</td>\n",
       "      <td>Action-adventure</td>\n",
       "      <td>Rockstar Games</td>\n",
       "      <td>PS4, Xbox One</td>\n",
       "      <td>[LP]</td>\n",
       "    </tr>\n",
       "    <tr>\n",
       "      <th>328</th>\n",
       "      <td>2018</td>\n",
       "      <td>Super Smash Bros. Ultimate</td>\n",
       "      <td>Fighting</td>\n",
       "      <td>Nintendo</td>\n",
       "      <td>Nintendo Switch</td>\n",
       "      <td>[LQ]</td>\n",
       "    </tr>\n",
       "    <tr>\n",
       "      <th>329</th>\n",
       "      <td>2019</td>\n",
       "      <td>Disco Elysium</td>\n",
       "      <td>Role-playing</td>\n",
       "      <td>ZA/UM</td>\n",
       "      <td>PC</td>\n",
       "      <td>[LR]</td>\n",
       "    </tr>\n",
       "    <tr>\n",
       "      <th>330</th>\n",
       "      <td>2020</td>\n",
       "      <td>Hades</td>\n",
       "      <td>Roguelike</td>\n",
       "      <td>Supergiant Games</td>\n",
       "      <td>PC, Mac, Nintendo Switch</td>\n",
       "      <td>[LS]</td>\n",
       "    </tr>\n",
       "    <tr>\n",
       "      <th>331</th>\n",
       "      <td>2022</td>\n",
       "      <td>Elden Ring</td>\n",
       "      <td>Action role-playing</td>\n",
       "      <td>Bandai Namco</td>\n",
       "      <td>PC, PS4, PS5, Xbox One, Xbox Series X/S</td>\n",
       "      <td>[LT]</td>\n",
       "    </tr>\n",
       "  </tbody>\n",
       "</table>\n",
       "<p>332 rows × 6 columns</p>\n",
       "</div>"
      ],
      "text/plain": [
       "     Year                        Game                Genre         Publisher  \\\n",
       "0    1971            The Oregon Trail             Strategy              MECC   \n",
       "1    1972                        Pong               Sports       Atari, Inc.   \n",
       "2    1977                      Combat     Top-down shooter       Atari, Inc.   \n",
       "3    1977                        Zork            Adventure           Infocom   \n",
       "4    1978              Space Invaders         Shoot 'em up             Taito   \n",
       "..    ...                         ...                  ...               ...   \n",
       "327  2018       Red Dead Redemption 2     Action-adventure    Rockstar Games   \n",
       "328  2018  Super Smash Bros. Ultimate             Fighting          Nintendo   \n",
       "329  2019               Disco Elysium         Role-playing             ZA/UM   \n",
       "330  2020                       Hades            Roguelike  Supergiant Games   \n",
       "331  2022                  Elden Ring  Action role-playing      Bandai Namco   \n",
       "\n",
       "                        Original platform(s)  Ref.  \n",
       "0                                    HP 2100   [A]  \n",
       "1                                     Arcade   [B]  \n",
       "2                                 Atari 2600   [C]  \n",
       "3                                     PDP-10   [D]  \n",
       "4                                     Arcade   [E]  \n",
       "..                                       ...   ...  \n",
       "327                            PS4, Xbox One  [LP]  \n",
       "328                          Nintendo Switch  [LQ]  \n",
       "329                                       PC  [LR]  \n",
       "330                 PC, Mac, Nintendo Switch  [LS]  \n",
       "331  PC, PS4, PS5, Xbox One, Xbox Series X/S  [LT]  \n",
       "\n",
       "[332 rows x 6 columns]"
      ]
     },
     "execution_count": 99,
     "metadata": {},
     "output_type": "execute_result"
    }
   ],
   "source": [
    "df"
   ]
  },
  {
   "cell_type": "code",
   "execution_count": 106,
   "metadata": {
    "scrolled": false
   },
   "outputs": [
    {
     "data": {
      "image/png": "[encoded data removed]",
      "text/plain": [
       "<Figure size 864x432 with 1 Axes>"
      ]
     },
     "metadata": {
      "needs_background": "light"
     },
     "output_type": "display_data"
    }
   ],
   "source": [
    "import pandas as pd\n",
    "import matplotlib.pyplot as plt\n",
    "\n",
    "\n",
    "genre_counts = df['Genre'].value_counts()\n",
    "\n",
    "plt.figure(figsize=(12, 6))\n",
    "plt.bar(genre_counts.index, genre_counts.values, color='skyblue')\n",
    "plt.xlabel('Genre')\n",
    "plt.ylabel('Count')\n",
    "plt.title('Distribution of Game Genres for the Best Games of the Year')\n",
    "plt.xticks(rotation=45, ha='right') \n",
    "plt.tight_layout()\n",
    "plt.show()"
   ]
  },
  {
   "cell_type": "code",
   "execution_count": null,
   "metadata": {},
   "outputs": [],
   "source": []
  }
 ],
 "metadata": {
  "kernelspec": {
   "display_name": "Python 3",
   "language": "python",
   "name": "python3"
  },
  "language_info": {
   "codemirror_mode": {
    "name": "ipython",
    "version": 3
   },
   "file_extension": ".py",
   "mimetype": "text/x-python",
   "name": "python",
   "nbconvert_exporter": "python",
   "pygments_lexer": "ipython3",
   "version": "3.8.5"
  }
 },
 "nbformat": 4,
 "nbformat_minor": 4
}
